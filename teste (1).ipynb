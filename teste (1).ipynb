{
  "cells": [
    {
      "cell_type": "code",
      "execution_count": 1,
      "metadata": {
        "id": "L880MXNLHOgM"
      },
      "outputs": [],
      "source": [
        "import pandas as pd\n",
        "\n",
        "# Carregando o dataset do Titanic\n",
        "titanic_data = pd.read_csv(\"https://raw.githubusercontent.com/datasciencedojo/datasets/master/titanic.csv\").to_dict(orient=\"records\")"
      ]
    },
    {
      "cell_type": "code",
      "source": [
        "field_mapping = {\n",
        "    \"PassengerId\": \"ID do Passageiro\",\n",
        "    \"Survived\": \"Sobreviveu\",\n",
        "    \"Pclass\": \"Classe\",\n",
        "    \"Name\": \"Nome\",\n",
        "    \"Sex\": \"Sexo\",\n",
        "    \"Age\": \"Idade\",\n",
        "    \"SibSp\": \"Número de irmãos/cônjuges a bordo\",\n",
        "    \"Parch\": \"Número de pais/filhos a bordo\",\n",
        "    \"Ticket\": \"Número do Ticket\",\n",
        "    \"Fare\": \"Tarifa\",\n",
        "    \"Cabin\": \"Cabine\",\n",
        "    \"Embarked\": \"Porto de Embarque\"\n",
        "}"
      ],
      "metadata": {
        "id": "Yg3W1ZY3HgiP"
      },
      "execution_count": null,
      "outputs": []
    },
    {
      "cell_type": "markdown",
      "metadata": {
        "id": "LZv2GSSVHOgN"
      },
      "source": [
        "# Função Exemplo: Categorizar a tarifa do passageiro em baixa, média ou alta"
      ]
    },
    {
      "cell_type": "code",
      "execution_count": 2,
      "metadata": {
        "id": "7-llJkw7HOgP"
      },
      "outputs": [],
      "source": [
        "def fare_category(passenger_id):\n",
        "    fare = titanic_data[passenger_id][\"Fare\"]\n",
        "    if fare < 10:\n",
        "        category = \"baixa\"\n",
        "    elif fare < 30:\n",
        "        category = \"média\"\n",
        "    else:\n",
        "        category = \"alta\"\n",
        "    return {\"category\": category}"
      ]
    },
    {
      "cell_type": "code",
      "execution_count": 3,
      "metadata": {
        "colab": {
          "base_uri": "https://localhost:8080/"
        },
        "id": "i6-JihUKHOgP",
        "outputId": "0cb20c0f-86b2-43e0-90cc-fbbc5e63fd56"
      },
      "outputs": [
        {
          "output_type": "stream",
          "name": "stdout",
          "text": [
            "A tarifa do passageiro está na categoria: baixa\n"
          ]
        }
      ],
      "source": [
        "passenger_id = 0  # Primeiro passageiro no dataset\n",
        "result = fare_category(passenger_id)\n",
        "\n",
        "print(f\"A tarifa do passageiro está na categoria: {result['category']}\")"
      ]
    },
    {
      "cell_type": "markdown",
      "metadata": {
        "id": "kBpv-AFrHOgQ"
      },
      "source": [
        "# Função 1: Verificar se a pessoa é do sexo masculino"
      ]
    },
    {
      "cell_type": "code",
      "execution_count": null,
      "metadata": {
        "id": "FLLAsBjgHOgQ"
      },
      "outputs": [],
      "source": [
        "def is_male(passenger_id):\n",
        "    pass"
      ]
    },
    {
      "cell_type": "markdown",
      "metadata": {
        "id": "gw4GgXMlHOgQ"
      },
      "source": [
        "# Função 2: Verificar se a pessoa é do sexo feminino"
      ]
    },
    {
      "cell_type": "code",
      "execution_count": null,
      "metadata": {
        "id": "aj3F4WSyHOgQ"
      },
      "outputs": [],
      "source": [
        "def is_female(passenger_id):\n",
        "    pass"
      ]
    },
    {
      "cell_type": "markdown",
      "metadata": {
        "id": "C-LLwNoKHOgR"
      },
      "source": [
        "# Função 3: Verificar se a pessoa sobreviveu ao desastre"
      ]
    },
    {
      "cell_type": "code",
      "execution_count": null,
      "metadata": {
        "id": "vKRbfkgyHOgR"
      },
      "outputs": [],
      "source": [
        "def is_survivor(passenger_id):\n",
        "    pass"
      ]
    },
    {
      "cell_type": "markdown",
      "metadata": {
        "id": "AhMBOD9PHOgR"
      },
      "source": [
        "# Função 4: Verificar se a pessoa não sobreviveu ao desastre"
      ]
    },
    {
      "cell_type": "code",
      "execution_count": null,
      "metadata": {
        "id": "umRejViTHOgS"
      },
      "outputs": [],
      "source": [
        "def is_not_survivor(passenger_id):\n",
        "    pass"
      ]
    },
    {
      "cell_type": "markdown",
      "metadata": {
        "id": "DFrGxMyOHOgS"
      },
      "source": [
        "# Função 5: Verificar se a pessoa é da primeira classe"
      ]
    },
    {
      "cell_type": "code",
      "execution_count": null,
      "metadata": {
        "id": "iVSqC9_LHOgS"
      },
      "outputs": [],
      "source": [
        "def is_first_class(passenger_id):\n",
        "    pass"
      ]
    },
    {
      "cell_type": "markdown",
      "metadata": {
        "id": "P-b9T52uHOgS"
      },
      "source": [
        "# Função 6: Verificar se a pessoa é da segunda classe"
      ]
    },
    {
      "cell_type": "code",
      "execution_count": null,
      "metadata": {
        "id": "iTVPyw7hHOgS"
      },
      "outputs": [],
      "source": [
        "def is_second_class(passenger_id):\n",
        "    pass"
      ]
    },
    {
      "cell_type": "markdown",
      "metadata": {
        "id": "poAYitYIHOgT"
      },
      "source": [
        "# Função 7: Verificar se a pessoa é da terceira classe"
      ]
    },
    {
      "cell_type": "code",
      "execution_count": null,
      "metadata": {
        "id": "Tu660vFhHOgT"
      },
      "outputs": [],
      "source": [
        "def is_third_class(passenger_id):\n",
        "    pass"
      ]
    },
    {
      "cell_type": "markdown",
      "metadata": {
        "id": "PXeWmR0kHOgT"
      },
      "source": [
        "# Função 8: Verificar se a pessoa é menor de idade (menor de 18 anos)"
      ]
    },
    {
      "cell_type": "code",
      "execution_count": null,
      "metadata": {
        "id": "qWBxDqz0HOgT"
      },
      "outputs": [],
      "source": [
        "def is_minor(passenger_id):\n",
        "    pass"
      ]
    },
    {
      "cell_type": "markdown",
      "metadata": {
        "id": "hgcYsbGQHOgT"
      },
      "source": [
        "# Função 9: Verificar se a pessoa é adulta (18 anos ou mais)"
      ]
    },
    {
      "cell_type": "code",
      "execution_count": null,
      "metadata": {
        "id": "Sfv54Ma3HOgT"
      },
      "outputs": [],
      "source": [
        "def is_adult(passenger_id):\n",
        "    pass"
      ]
    },
    {
      "cell_type": "markdown",
      "metadata": {
        "id": "uFKHwJPWHOgT"
      },
      "source": [
        "# Função 10: Verificar se a pessoa possui algum parente a bordo"
      ]
    },
    {
      "cell_type": "code",
      "execution_count": null,
      "metadata": {
        "id": "kWx_320xHOgU"
      },
      "outputs": [],
      "source": [
        "def has_relatives(passenger_id):\n",
        "    pass"
      ]
    },
    {
      "cell_type": "code",
      "execution_count": null,
      "metadata": {
        "id": "cDnQIJOPHOgU"
      },
      "outputs": [],
      "source": []
    }
  ],
  "metadata": {
    "language_info": {
      "name": "python"
    },
    "orig_nbformat": 4,
    "colab": {
      "provenance": []
    },
    "kernelspec": {
      "name": "python3",
      "display_name": "Python 3"
    }
  },
  "nbformat": 4,
  "nbformat_minor": 0
}